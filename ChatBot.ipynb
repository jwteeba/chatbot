{
 "cells": [
  {
   "cell_type": "markdown",
   "metadata": {},
   "source": [
    "# Building a chat bot with deep NLP"
   ]
  },
  {
   "cell_type": "code",
   "execution_count": 1,
   "metadata": {},
   "outputs": [],
   "source": [
    "import numpy as np\n",
    "import tensorflow as tf\n",
    "import re\n",
    "import time"
   ]
  },
  {
   "cell_type": "code",
   "execution_count": 2,
   "metadata": {},
   "outputs": [
    {
     "data": {
      "text/plain": [
       "'2.4.1'"
      ]
     },
     "execution_count": 2,
     "metadata": {},
     "output_type": "execute_result"
    }
   ],
   "source": [
    "tf.__version__"
   ]
  },
  {
   "cell_type": "markdown",
   "metadata": {},
   "source": [
    "### Data Preprocessing"
   ]
  },
  {
   "cell_type": "code",
   "execution_count": 3,
   "metadata": {},
   "outputs": [],
   "source": [
    "lines = open('/data/movie_lines.txt', encoding = 'utf-8', errors = 'ignore').read().split('\\n')\n",
    "conversations = open('/data/movie_conversations.txt', encoding = 'utf-8', errors = 'ignore').read().split('\\n')"
   ]
  },
  {
   "cell_type": "markdown",
   "metadata": {},
   "source": [
    "### Create a dictionary that map each line and its id"
   ]
  },
  {
   "cell_type": "code",
   "execution_count": 4,
   "metadata": {},
   "outputs": [],
   "source": [
    "id2line = {}\n",
    "for line in lines:\n",
    "    _line = line.split(' +++$+++ ')\n",
    "    if len(_line) == 5:\n",
    "        id2line[_line[0]] = _line[4]"
   ]
  },
  {
   "cell_type": "markdown",
   "metadata": {},
   "source": [
    "### Create list of all conversations"
   ]
  },
  {
   "cell_type": "code",
   "execution_count": 5,
   "metadata": {},
   "outputs": [],
   "source": [
    "conversations_ids = []\n",
    "for conversation in conversations[:-1]:\n",
    "    _conversation = conversation.split(' +++$+++ ')[-1][1:-1].replace(\"'\", \"\").replace(\" \", \"\")\n",
    "    conversations_ids.append(_conversation.split(\",\"))"
   ]
  },
  {
   "cell_type": "markdown",
   "metadata": {},
   "source": [
    "### Separate the question from the answers"
   ]
  },
  {
   "cell_type": "code",
   "execution_count": 6,
   "metadata": {},
   "outputs": [],
   "source": [
    "questions = []\n",
    "answers = []\n",
    "\n",
    "for conversation in conversations_ids:\n",
    "    for i in range(len(conversation) - 1):\n",
    "        questions.append(id2line[conversation[i]])\n",
    "        answers.append(id2line[conversation[i+1]])"
   ]
  },
  {
   "cell_type": "markdown",
   "metadata": {},
   "source": [
    "### Clean Text"
   ]
  },
  {
   "cell_type": "code",
   "execution_count": 7,
   "metadata": {},
   "outputs": [],
   "source": [
    "def clean_text(text):\n",
    "    text = text.lower()\n",
    "    text = re.sub(r\"i'm\", \"i am\", text)\n",
    "    text = re.sub(r\"he's\", \"he is\", text)\n",
    "    text = re.sub(r\"she's\", \"she is\", text)\n",
    "    text = re.sub(r\"that's\", \"that is\", text)\n",
    "    text = re.sub(r\"what's\", \"what is\", text)\n",
    "    text = re.sub(r\"where's\", \"where is\", text)\n",
    "    text = re.sub(r\"\\'ll\", \" will\", text)\n",
    "    text = re.sub(r\"\\'ve\", \" have\", text)\n",
    "    text = re.sub(r\"\\'re\", \" are\", text)\n",
    "    text = re.sub(r\"\\'d\", \" would\", text)\n",
    "    text = re.sub(r\"won't\", \"will not\", text)\n",
    "    text = re.sub(r\"can't\", \"cannot\", text)\n",
    "    text = re.sub(r\"[-()\\\"#/@;:<>{}+=~|.?,]\", \"\", text)\n",
    "    return text"
   ]
  },
  {
   "cell_type": "markdown",
   "metadata": {},
   "source": [
    "### Clean questions"
   ]
  },
  {
   "cell_type": "code",
   "execution_count": 8,
   "metadata": {},
   "outputs": [],
   "source": [
    "clean_questions = []\n",
    "for question in questions:\n",
    "    clean_questions.append(clean_text(question))"
   ]
  },
  {
   "cell_type": "markdown",
   "metadata": {},
   "source": [
    "### Clean answers"
   ]
  },
  {
   "cell_type": "code",
   "execution_count": 9,
   "metadata": {},
   "outputs": [],
   "source": [
    "clean_answers = []\n",
    "for answer in answers:\n",
    "    clean_answers.append(clean_text(answer))"
   ]
  },
  {
   "cell_type": "markdown",
   "metadata": {},
   "source": [
    "### Create dictionary that maps each word to its number of occurances"
   ]
  },
  {
   "cell_type": "code",
   "execution_count": 10,
   "metadata": {},
   "outputs": [],
   "source": [
    "word2count = {}\n",
    "\n",
    "for question in clean_questions:\n",
    "    for word in question.split():\n",
    "        if word not in word2count:\n",
    "            word2count[word] = 1\n",
    "        else:\n",
    "            word2count[word] += 1\n",
    "            \n",
    "for answer in clean_answers:\n",
    "    for word in answer.split():\n",
    "        if word not in word2count:\n",
    "            word2count[word] = 1\n",
    "        else:\n",
    "            word2count[word] += 1\n",
    "            "
   ]
  },
  {
   "cell_type": "markdown",
   "metadata": {},
   "source": [
    "### Creating two dictionaries that map the questions words and the answers words to a unique integer"
   ]
  },
  {
   "cell_type": "code",
   "execution_count": 11,
   "metadata": {},
   "outputs": [],
   "source": [
    "# Filtering the non-frequent words\n",
    "\n",
    "# With these dictionaries, we know which words are not the five percent least frequent word so later\n",
    "threshold_questions = 20\n",
    "questionswords2int = {} # map each word in all questions to a unique integer\n",
    "word_number = 0\n",
    "for word, count in word2count.items():\n",
    "    if count >= threshold_questions: # check if the number of occurances of the word is > threshold\n",
    "        questionswords2int[word] = word_number\n",
    "        word_number += 1\n",
    "\n",
    "threshold_answers = 20\n",
    "answerswords2int = {} # map each word in all answers to a unique integer\n",
    "word_number = 0\n",
    "for word, count in word2count.items():\n",
    "    if count >= threshold_answers: # check if the number of occurances of the word is > threshold\n",
    "        answerswords2int[word] = word_number\n",
    "        word_number += 1"
   ]
  },
  {
   "cell_type": "markdown",
   "metadata": {},
   "source": [
    "### Add tokens to 'questionswords2int' and 'anwerswords2int' dictionaries"
   ]
  },
  {
   "cell_type": "code",
   "execution_count": 12,
   "metadata": {},
   "outputs": [],
   "source": [
    "# Tokenization\n",
    "# useful for the encoder and the decoder in the seq2seq model\n",
    "# Start of string: encode bwith SOS; End of string: encode with EOS; \n",
    "# The 'PAD' which is important for the model because the process\n",
    "# training data and the sequences in the batches should all have the same \n",
    "# length and therefore input this token in an empty position.\n",
    "# OUT: corresponds to all the words that were filtered out by questionswords2int \n",
    "# and  answersword2int dictionaries. Use the dictionaries to replace all the five percent less frequent words with this \n",
    "# token 'OUT' so that these 5 percent less frequent words are all replaced by one same common token\n",
    "\n",
    "tokens = ['<PAD>', '<EOS>', '<OUT>', '<SOS>']\n",
    "for token in tokens:\n",
    "    questionswords2int[token] = len(questionswords2int) + 1\n",
    "    \n",
    "for token in tokens:\n",
    "    answerswords2int[token] = len(answerswords2int) + 1"
   ]
  },
  {
   "cell_type": "markdown",
   "metadata": {},
   "source": [
    "### Create the inverse dictionary of the answersword2int dictionary"
   ]
  },
  {
   "cell_type": "code",
   "execution_count": 13,
   "metadata": {},
   "outputs": [],
   "source": [
    "# Create the inverse dictionary of the answersword2int dictionary.\n",
    "# That's because we will need inverse mapping from the integers to the answersword2int in the implementation\n",
    "# of the seq2seq model.\n",
    "\n",
    "answersints2word = {w_i: w for w, w_i in answerswords2int.items()} "
   ]
  },
  {
   "cell_type": "markdown",
   "metadata": {},
   "source": [
    "### Adding the end of String token to the end of every answer"
   ]
  },
  {
   "cell_type": "code",
   "execution_count": 14,
   "metadata": {},
   "outputs": [],
   "source": [
    "for i in range(len(clean_answers)):\n",
    "    clean_answers[i] += ' <EOS>'\n",
    "    "
   ]
  },
  {
   "cell_type": "markdown",
   "metadata": {},
   "source": [
    "### Translating all the questions and the answers into integers and replacing all the words that were filtered out by <OUT>"
   ]
  },
  {
   "cell_type": "code",
   "execution_count": 15,
   "metadata": {},
   "outputs": [],
   "source": [
    "# Sort all the questions and all the answers by their length.\n",
    "# Two lists of questions and answers translated into integers.\n",
    "#  optimize the training performance.\n",
    "questions_into_int = []\n",
    "for question in clean_questions:\n",
    "    ints = []\n",
    "    for word in question.split():\n",
    "        if word not in questionswords2int:\n",
    "            ints.append(questionswords2int['<OUT>'])\n",
    "        else:\n",
    "            ints.append(questionswords2int[word])\n",
    "    questions_into_int.append(ints)\n",
    "    \n",
    "answers_into_int = []\n",
    "for answer in clean_answers:\n",
    "    ints = []\n",
    "    for word in answer.split():\n",
    "        if word not in answerswords2int:\n",
    "            ints.append(answerswords2int['<OUT>'])\n",
    "        else:\n",
    "            ints.append(answerswords2int[word])\n",
    "    answers_into_int.append(ints)\n"
   ]
  },
  {
   "cell_type": "markdown",
   "metadata": {},
   "source": [
    "### Sorting question and answer by the length of questions"
   ]
  },
  {
   "cell_type": "code",
   "execution_count": 16,
   "metadata": {},
   "outputs": [],
   "source": [
    "sorted_clean_questions = []\n",
    "sorted_clean_answers = []\n",
    "for length in range(1, 25 + 1):\n",
    "    for i in enumerate(questions_into_int):\n",
    "        if len(i[1]) == length:\n",
    "            sorted_clean_questions.append(questions_into_int[i[0]])\n",
    "            sorted_clean_answers.append(answers_into_int[i[0]])"
   ]
  },
  {
   "cell_type": "markdown",
   "metadata": {},
   "source": [
    "# Building the seq2seq model"
   ]
  },
  {
   "cell_type": "code",
   "execution_count": 41,
   "metadata": {},
   "outputs": [],
   "source": [
    "# Create placeholder for the inputs and the target\n",
    "def model_inputs():\n",
    "    inputs = tf.placeholder(tf.int32, [None, None], name='input')\n",
    "    targets = tf.placeholder(tf.int32, [None, None], name='target')\n",
    "    learning_rate = tf.placeholder(tf.float32, name='learning_rate')\n",
    "    keep_prob = tf.placeholder(tf.float32, name='keep_prob')\n",
    "    \n",
    "    return inputs, targets, learning_rate, keep_prob\n",
    "\n",
    "# Preprocessing the target\n",
    "def preprocess_targets(targets, word2int, batch_size):\n",
    "    \"\"\" \n",
    "        prepare a set of targets [answers]  because the \n",
    "        decoder will only accept a certain format of the targets.\n",
    "        take all these answers inside batches and remove the last column of these answers.\n",
    "        make a concatenation to add the start of string tokens at the beginning of the target in the batches.\n",
    "    \"\"\"\n",
    "    # The targets must be in two batches. \n",
    "    # The recurrent neural networks of the decoder \n",
    "    # will not accept single targets that is single answers.\n",
    "    # Each of the answers in the batch of Target must start with the SOS tokens.\n",
    "\n",
    "    left_side = tf.fill([batch_size, 1], word2int['<SOS>']) # vector of elements only containing \n",
    "                                                            # the S.O.S [unique identifiers encoding \n",
    "                                                            # the SOS tokens] tokens.\n",
    "            \n",
    "    # all the answers in the batch of answers except the last column because we don't\n",
    "    # want to get the last token (not needed for the decoder)\n",
    "    right_side = tf.strided_slice(tragets, [0,0], [batch_size, -1], [1,1]) \n",
    "    preprocess_targets = tf.concat([left_side, right_side], 1)\n",
    "    \n",
    "    return preprocess_targets\n",
    "\n",
    "#Encoder RNN Layer\n",
    "def encoder_rnn(rnn_input, rnn_size, num_layers, keep_prob, sequence_length):\n",
    "    \"\"\"\n",
    "    Create the Encoder RNN Layer\n",
    "    \n",
    "    Arguments:\n",
    "            rnn_input: corresponds to the model inputs.\n",
    "            rnn_size: number of input tensors of the encoder of the RNN layer\n",
    "            num_layer: number of layers\n",
    "            keep_prob:  control the dropout rate\n",
    "            sequence_length: the list of the length of each question in the batch\n",
    "    \"\"\"\n",
    "    \n",
    "    lstm = tf.contrib.rnn.BasicLSTMCell(rnn_size) \n",
    "    \n",
    "    # dropout is the technique of dropping out, that is deactivating a certain \n",
    "    # rcentage of the neurons during the training iterations.\n",
    "    lstm_dropout = tf.contrib.rnn.DropoutWrapper(lstm, input_keep_prob = keep_prob) # LSTM with dropout apply\n",
    "    encoder_cell = tf.contrib.rnn.MultiRNNCell([lstm_dropout] * num_layers)\n",
    "    _, encoder_state = tf.nn.bidirectional_dynamic_rnn(cell_fw = encoder_cell, \n",
    "                                                       cell_bw = encoder_cell, \n",
    "                                                       sequence_length = sequence_length, \n",
    "                                                       input = rnn_input, \n",
    "                                                       dtype = tf.float32)\n",
    "    return tf.contrib.rnn\n",
    "                                                      \n",
    "    \n",
    "    \n",
    "\n",
    "#Decode the training set   \n",
    "def decode_training_set(encoder_state, \n",
    "                        decoder_cell, \n",
    "                        decoder_embedded_input, \n",
    "                        sequence_length, \n",
    "                        decoding_scope, \n",
    "                        output_function, \n",
    "                        keep_prob, batch_size):\n",
    "    \"\"\" \n",
    "        Decode the training set.\n",
    "        decode the observations of the training set and returned the output of the decoder.\n",
    "        Observations of the training set: some observations that are going back into the neural \n",
    "        network to update the weights and improve the ability of the chatbot to talk like a human.\n",
    "    \"\"\"\n",
    "    attention_states = tf.zeros([batch_size, 1, decoder_cell.output_size])\n",
    "    attentions_keys, attention_values, attention_score_function, attention_construct_functions = tf.contrib.seq2seq.prepare_attention(attention_states, \n",
    "                                                                                                                                      attention_option = 'bahdanau', \n",
    "                                                                                                                                      num_units = decoder_cell.output_size)\n",
    "    \n",
    "    training_decoder_function = tf.contrib.seq2seq.attention_decoder_fn_train(encoder_state[0], \n",
    "                                                                              attentions_keys, \n",
    "                                                                              attention_values, \n",
    "                                                                              attention_score_function, \n",
    "                                                                              attention_construct_functions, \n",
    "                                                                              name = \"attn_dec_train\")\n",
    "    decoder_output, _, _ = tf.contrib.seq2seq.dynamic_rnn_decorder(decoder_cell, \n",
    "                                                                   training_decoder_function, \n",
    "                                                                   decoder_embedded_input, \n",
    "                                                                   sequence_length, \n",
    "                                                                   decoding_scope)\n",
    "    decoder_output_dropout = tf.nn.dropout(decoder_output, keep_prob)\n",
    "    return output_function(decoder_output_dropout)\n",
    "\n",
    "\n",
    "# Decode the test/validation set\n",
    "def decode_test_set(encoder_state, \n",
    "                    decoder_cell, \n",
    "                    decoder_embeddings_matrix, \n",
    "                    sos_id, \n",
    "                    eos_id, \n",
    "                    maximum_length, \n",
    "                    num_words, \n",
    "                    decoding_scope, \n",
    "                    output_function, \n",
    "                    keep_prob, \n",
    "                    batch_size):\n",
    "     \n",
    "    \"\"\"Predict the observations of the test and validation set.\"\"\"\n",
    "    \n",
    "    attention_states = tf.zeros([batch_size, 1, decoder_cell.output_size])\n",
    "    attention_keys, attention_values, attention_score_function, attention_construct_function = tf.contrib.seq2seq.prepare_attention(attention_states, \n",
    "                                                                                                                                    attention_option = \"bahdanau\", \n",
    "                                                                                                                                    num_units = decoder_cell.output_size)\n",
    "    test_decoder_function = tf.contrib.seq2seq.attention_decoder_fn_inference(output_function,\n",
    "                                                                              encoder_state[0],\n",
    "                                                                              attention_keys,\n",
    "                                                                              attention_values,\n",
    "                                                                              attention_score_function,\n",
    "                                                                              attention_construct_function,\n",
    "                                                                              decoder_embeddings_matrix,\n",
    "                                                                              sos_id,\n",
    "                                                                              eos_id,\n",
    "                                                                              maximum_length,\n",
    "                                                                              num_words,\n",
    "                                                                              name = \"attn_dec_inf\")\n",
    "    test_predictions, _, _ = tf.contrib.seq2seq.dynamic_rnn_decoder(decoder_cell,\n",
    "                                                                    test_decoder_function,\n",
    "                                                                    scope = decoding_scope)\n",
    "    return test_predictions\n",
    "\n",
    "\n",
    "# Create Decoder RNN\n",
    "def decoder_rnn(decoder_embedded_input, \n",
    "                decoder_embeddings_matrix, \n",
    "                encoder_state, num_words, \n",
    "                sequence_length, rnn_size, \n",
    "                num_layers, word2int, \n",
    "                keep_prob, \n",
    "                batch_size):\n",
    "    with tf.variable_scope(\"decoding\") as decoding_scope:\n",
    "        lstm = tf.contrib.rnn.BasicLSTMCell(rnn_size)\n",
    "        lstm_dropout = tf.contrib.rnn.DropoutWrapper(lstm, input_keep_prob = keep_prob)\n",
    "        decoder_cell = tf.contrib.rnn.MultiRNNCell([lstm_dropout] * num_layers)\n",
    "        weights = tf.truncated_normal_initializer(stddev = 0.1)\n",
    "        biases = tf.zeros_initializer()\n",
    "        output_function = lambda x: tf.contrib.layers.fully_connected(x,\n",
    "                                                                      num_words,\n",
    "                                                                      None,\n",
    "                                                                      scope = decoding_scope,\n",
    "                                                                      weights_initializer = weights,\n",
    "                                                                      biases_initializer = biases)\n",
    "        training_predictions = decode_training_set(encoder_state,\n",
    "                                                   decoder_cell,\n",
    "                                                   decoder_embedded_input,\n",
    "                                                   sequence_length,\n",
    "                                                   decoding_scope,\n",
    "                                                   output_function,\n",
    "                                                   keep_prob,\n",
    "                                                   batch_size)\n",
    "        decoding_scope.reuse_variables()\n",
    "        test_predictions = decode_test_set(encoder_state,\n",
    "                                           decoder_cell,\n",
    "                                           decoder_embeddings_matrix,\n",
    "                                           word2int['<SOS>'],\n",
    "                                           word2int['<EOS>'],\n",
    "                                           sequence_length - 1,\n",
    "                                           num_words,\n",
    "                                           decoding_scope,\n",
    "                                           output_function,\n",
    "                                           keep_prob,\n",
    "                                           batch_size)\n",
    "    return training_predictions, test_predictions\n",
    "\n",
    "\n",
    "# Build the seq2seq Model\n",
    "def seq2seq_model(inputs, \n",
    "                  targets, \n",
    "                  keep_prob, \n",
    "                  batch_size, \n",
    "                  sequence_length, \n",
    "                  answers_num_words, \n",
    "                  questions_num_words, \n",
    "                  encoder_embedding_size, \n",
    "                  decoder_embedding_size, \n",
    "                  rnn_size, num_layers, \n",
    "                  questionswords2int):\n",
    "    encoder_embedded_input = tf.contrib.layers.embed_sequence(inputs,\n",
    "                                                              answers_num_words + 1,\n",
    "                                                              encoder_embedding_size,\n",
    "                                                              initializer = tf.random_uniform_initializer(0, 1))\n",
    "    encoder_state = encoder_rnn(encoder_embedded_input, \n",
    "                                rnn_size, num_layers, \n",
    "                                keep_prob, \n",
    "                                sequence_length)\n",
    "    preprocessed_targets = preprocess_targets(targets, questionswords2int, batch_size)\n",
    "    decoder_embeddings_matrix = tf.Variable(tf.random_uniform([questions_num_words + 1, decoder_embedding_size], 0, 1))\n",
    "    decoder_embedded_input = tf.nn.embedding_lookup(decoder_embeddings_matrix, preprocessed_targets)\n",
    "    training_predictions, test_predictions = decoder_rnn(decoder_embedded_input,\n",
    "                                                         decoder_embeddings_matrix,\n",
    "                                                         encoder_state,\n",
    "                                                         questions_num_words,\n",
    "                                                         sequence_length,\n",
    "                                                         rnn_size,\n",
    "                                                         num_layers,\n",
    "                                                         questionswords2int,\n",
    "                                                         keep_prob,\n",
    "                                                         batch_size)\n",
    "    return training_predictions, test_predictions\n"
   ]
  },
  {
   "cell_type": "code",
   "execution_count": null,
   "metadata": {},
   "outputs": [],
   "source": []
  }
 ],
 "metadata": {
  "kernelspec": {
   "display_name": "Python 3",
   "language": "python",
   "name": "python3"
  },
  "language_info": {
   "codemirror_mode": {
    "name": "ipython",
    "version": 3
   },
   "file_extension": ".py",
   "mimetype": "text/x-python",
   "name": "python",
   "nbconvert_exporter": "python",
   "pygments_lexer": "ipython3",
   "version": "3.8.8"
  }
 },
 "nbformat": 4,
 "nbformat_minor": 2
}
